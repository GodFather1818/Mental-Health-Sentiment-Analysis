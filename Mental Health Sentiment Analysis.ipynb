{
 "cells": [
  {
   "cell_type": "markdown",
   "id": "bcacdd1a",
   "metadata": {},
   "source": [
    "# Importing the Libraries."
   ]
  },
  {
   "cell_type": "code",
   "execution_count": 1,
   "id": "d2516c12",
   "metadata": {},
   "outputs": [],
   "source": [
    "import numpy as np\n",
    "import pandas as pd\n",
    "import seaborn as sns\n",
    "import matplotlib.pyplot as plt"
   ]
  },
  {
   "cell_type": "code",
   "execution_count": 2,
   "id": "fab7777b",
   "metadata": {},
   "outputs": [],
   "source": [
    "df = pd.read_csv('mental_health.csv')"
   ]
  },
  {
   "cell_type": "code",
   "execution_count": 3,
   "id": "2faf45c3",
   "metadata": {},
   "outputs": [
    {
     "data": {
      "text/html": [
       "<div>\n",
       "<style scoped>\n",
       "    .dataframe tbody tr th:only-of-type {\n",
       "        vertical-align: middle;\n",
       "    }\n",
       "\n",
       "    .dataframe tbody tr th {\n",
       "        vertical-align: top;\n",
       "    }\n",
       "\n",
       "    .dataframe thead th {\n",
       "        text-align: right;\n",
       "    }\n",
       "</style>\n",
       "<table border=\"1\" class=\"dataframe\">\n",
       "  <thead>\n",
       "    <tr style=\"text-align: right;\">\n",
       "      <th></th>\n",
       "      <th>text</th>\n",
       "      <th>label</th>\n",
       "    </tr>\n",
       "  </thead>\n",
       "  <tbody>\n",
       "    <tr>\n",
       "      <th>9046</th>\n",
       "      <td>hey guys im  year old guy serving emotional ro...</td>\n",
       "      <td>1</td>\n",
       "    </tr>\n",
       "    <tr>\n",
       "      <th>8766</th>\n",
       "      <td>question oldies im  question  year olds people...</td>\n",
       "      <td>0</td>\n",
       "    </tr>\n",
       "    <tr>\n",
       "      <th>12515</th>\n",
       "      <td>help guy get medal sergeant waverly b woodson ...</td>\n",
       "      <td>0</td>\n",
       "    </tr>\n",
       "    <tr>\n",
       "      <th>21212</th>\n",
       "      <td>whenever come sub rteenbeauties</td>\n",
       "      <td>0</td>\n",
       "    </tr>\n",
       "    <tr>\n",
       "      <th>1072</th>\n",
       "      <td>life seem bit pointless anyone else rantive fe...</td>\n",
       "      <td>1</td>\n",
       "    </tr>\n",
       "  </tbody>\n",
       "</table>\n",
       "</div>"
      ],
      "text/plain": [
       "                                                    text  label\n",
       "9046   hey guys im  year old guy serving emotional ro...      1\n",
       "8766   question oldies im  question  year olds people...      0\n",
       "12515  help guy get medal sergeant waverly b woodson ...      0\n",
       "21212                    whenever come sub rteenbeauties      0\n",
       "1072   life seem bit pointless anyone else rantive fe...      1"
      ]
     },
     "execution_count": 3,
     "metadata": {},
     "output_type": "execute_result"
    }
   ],
   "source": [
    "df.sample(5)"
   ]
  },
  {
   "cell_type": "code",
   "execution_count": 4,
   "id": "8b225983",
   "metadata": {},
   "outputs": [],
   "source": [
    "import tensorflow as tf\n",
    "from tensorflow import keras\n",
    "from tensorflow.keras.preprocessing.text import Tokenizer"
   ]
  },
  {
   "cell_type": "code",
   "execution_count": 5,
   "id": "ec98f2e9",
   "metadata": {},
   "outputs": [
    {
     "data": {
      "text/plain": [
       "(27977, 2)"
      ]
     },
     "execution_count": 5,
     "metadata": {},
     "output_type": "execute_result"
    }
   ],
   "source": [
    "df.shape"
   ]
  },
  {
   "cell_type": "markdown",
   "id": "8a7cfc69",
   "metadata": {},
   "source": [
    "# Exploratory Data Analysis."
   ]
  },
  {
   "cell_type": "code",
   "execution_count": 6,
   "id": "f93b61ea",
   "metadata": {},
   "outputs": [
    {
     "data": {
      "text/plain": [
       "<AxesSubplot: xlabel='label', ylabel='count'>"
      ]
     },
     "execution_count": 6,
     "metadata": {},
     "output_type": "execute_result"
    },
    {
     "data": {
      "image/png": "[encoded data removed]",
      "text/plain": [
       "<Figure size 640x480 with 1 Axes>"
      ]
     },
     "metadata": {},
     "output_type": "display_data"
    }
   ],
   "source": [
    "sns.countplot(x='label', data=df)"
   ]
  },
  {
   "cell_type": "markdown",
   "id": "9df45f62",
   "metadata": {},
   "source": [
    "## 1 :- Negative Comment.\n",
    "## 0 :- Positive Comment."
   ]
  },
  {
   "cell_type": "markdown",
   "id": "08926ded",
   "metadata": {},
   "source": [
    "# Splitting into Training and Testing Set"
   ]
  },
  {
   "cell_type": "code",
   "execution_count": 7,
   "id": "f59a212d",
   "metadata": {},
   "outputs": [],
   "source": [
    "X = df['text']\n",
    "y = df['label']"
   ]
  },
  {
   "cell_type": "code",
   "execution_count": 8,
   "id": "9f31ec9e",
   "metadata": {},
   "outputs": [],
   "source": [
    "from sklearn.model_selection import train_test_split"
   ]
  },
  {
   "cell_type": "code",
   "execution_count": 9,
   "id": "3b5bc570",
   "metadata": {},
   "outputs": [],
   "source": [
    "X_train, X_test, y_train, y_test = train_test_split(X, y, test_size=0.3, random_state=101)"
   ]
  },
  {
   "cell_type": "markdown",
   "id": "652eb377",
   "metadata": {},
   "source": [
    "# Text Processing"
   ]
  },
  {
   "cell_type": "code",
   "execution_count": 10,
   "id": "56b1edab",
   "metadata": {},
   "outputs": [],
   "source": [
    "from sklearn.feature_extraction.text import TfidfVectorizer"
   ]
  },
  {
   "cell_type": "code",
   "execution_count": 11,
   "id": "ccb20a5d",
   "metadata": {},
   "outputs": [],
   "source": [
    "tfidf = TfidfVectorizer(stop_words='english')"
   ]
  },
  {
   "cell_type": "code",
   "execution_count": 12,
   "id": "047f607c",
   "metadata": {},
   "outputs": [
    {
     "data": {
      "text/html": [
       "<style>#sk-container-id-1 {color: black;background-color: white;}#sk-container-id-1 pre{padding: 0;}#sk-container-id-1 div.sk-toggleable {background-color: white;}#sk-container-id-1 label.sk-toggleable__label {cursor: pointer;display: block;width: 100%;margin-bottom: 0;padding: 0.3em;box-sizing: border-box;text-align: center;}#sk-container-id-1 label.sk-toggleable__label-arrow:before {content: \"▸\";float: left;margin-right: 0.25em;color: #696969;}#sk-container-id-1 label.sk-toggleable__label-arrow:hover:before {color: black;}#sk-container-id-1 div.sk-estimator:hover label.sk-toggleable__label-arrow:before {color: black;}#sk-container-id-1 div.sk-toggleable__content {max-height: 0;max-width: 0;overflow: hidden;text-align: left;background-color: #f0f8ff;}#sk-container-id-1 div.sk-toggleable__content pre {margin: 0.2em;color: black;border-radius: 0.25em;background-color: #f0f8ff;}#sk-container-id-1 input.sk-toggleable__control:checked~div.sk-toggleable__content {max-height: 200px;max-width: 100%;overflow: auto;}#sk-container-id-1 input.sk-toggleable__control:checked~label.sk-toggleable__label-arrow:before {content: \"▾\";}#sk-container-id-1 div.sk-estimator input.sk-toggleable__control:checked~label.sk-toggleable__label {background-color: #d4ebff;}#sk-container-id-1 div.sk-label input.sk-toggleable__control:checked~label.sk-toggleable__label {background-color: #d4ebff;}#sk-container-id-1 input.sk-hidden--visually {border: 0;clip: rect(1px 1px 1px 1px);clip: rect(1px, 1px, 1px, 1px);height: 1px;margin: -1px;overflow: hidden;padding: 0;position: absolute;width: 1px;}#sk-container-id-1 div.sk-estimator {font-family: monospace;background-color: #f0f8ff;border: 1px dotted black;border-radius: 0.25em;box-sizing: border-box;margin-bottom: 0.5em;}#sk-container-id-1 div.sk-estimator:hover {background-color: #d4ebff;}#sk-container-id-1 div.sk-parallel-item::after {content: \"\";width: 100%;border-bottom: 1px solid gray;flex-grow: 1;}#sk-container-id-1 div.sk-label:hover label.sk-toggleable__label {background-color: #d4ebff;}#sk-container-id-1 div.sk-serial::before {content: \"\";position: absolute;border-left: 1px solid gray;box-sizing: border-box;top: 0;bottom: 0;left: 50%;z-index: 0;}#sk-container-id-1 div.sk-serial {display: flex;flex-direction: column;align-items: center;background-color: white;padding-right: 0.2em;padding-left: 0.2em;position: relative;}#sk-container-id-1 div.sk-item {position: relative;z-index: 1;}#sk-container-id-1 div.sk-parallel {display: flex;align-items: stretch;justify-content: center;background-color: white;position: relative;}#sk-container-id-1 div.sk-item::before, #sk-container-id-1 div.sk-parallel-item::before {content: \"\";position: absolute;border-left: 1px solid gray;box-sizing: border-box;top: 0;bottom: 0;left: 50%;z-index: -1;}#sk-container-id-1 div.sk-parallel-item {display: flex;flex-direction: column;z-index: 1;position: relative;background-color: white;}#sk-container-id-1 div.sk-parallel-item:first-child::after {align-self: flex-end;width: 50%;}#sk-container-id-1 div.sk-parallel-item:last-child::after {align-self: flex-start;width: 50%;}#sk-container-id-1 div.sk-parallel-item:only-child::after {width: 0;}#sk-container-id-1 div.sk-dashed-wrapped {border: 1px dashed gray;margin: 0 0.4em 0.5em 0.4em;box-sizing: border-box;padding-bottom: 0.4em;background-color: white;}#sk-container-id-1 div.sk-label label {font-family: monospace;font-weight: bold;display: inline-block;line-height: 1.2em;}#sk-container-id-1 div.sk-label-container {text-align: center;}#sk-container-id-1 div.sk-container {/* jupyter's `normalize.less` sets `[hidden] { display: none; }` but bootstrap.min.css set `[hidden] { display: none !important; }` so we also need the `!important` here to be able to override the default hidden behavior on the sphinx rendered scikit-learn.org. See: https://github.com/scikit-learn/scikit-learn/issues/21755 */display: inline-block !important;position: relative;}#sk-container-id-1 div.sk-text-repr-fallback {display: none;}</style><div id=\"sk-container-id-1\" class=\"sk-top-container\"><div class=\"sk-text-repr-fallback\"><pre>TfidfVectorizer(stop_words=&#x27;english&#x27;)</pre><b>In a Jupyter environment, please rerun this cell to show the HTML representation or trust the notebook. <br />On GitHub, the HTML representation is unable to render, please try loading this page with nbviewer.org.</b></div><div class=\"sk-container\" hidden><div class=\"sk-item\"><div class=\"sk-estimator sk-toggleable\"><input class=\"sk-toggleable__control sk-hidden--visually\" id=\"sk-estimator-id-1\" type=\"checkbox\" checked><label for=\"sk-estimator-id-1\" class=\"sk-toggleable__label sk-toggleable__label-arrow\">TfidfVectorizer</label><div class=\"sk-toggleable__content\"><pre>TfidfVectorizer(stop_words=&#x27;english&#x27;)</pre></div></div></div></div></div>"
      ],
      "text/plain": [
       "TfidfVectorizer(stop_words='english')"
      ]
     },
     "execution_count": 12,
     "metadata": {},
     "output_type": "execute_result"
    }
   ],
   "source": [
    "tfidf.fit(X_train)"
   ]
  },
  {
   "cell_type": "code",
   "execution_count": 13,
   "id": "c32dca30",
   "metadata": {},
   "outputs": [],
   "source": [
    "X_train = tfidf.transform(X_train)"
   ]
  },
  {
   "cell_type": "code",
   "execution_count": 14,
   "id": "9bf1f8f3",
   "metadata": {},
   "outputs": [],
   "source": [
    "X_test = tfidf.transform(X_test)"
   ]
  },
  {
   "cell_type": "markdown",
   "id": "df755c1f",
   "metadata": {},
   "source": [
    "# Model Building and Model Selection."
   ]
  },
  {
   "cell_type": "code",
   "execution_count": 15,
   "id": "9fabf2b5",
   "metadata": {},
   "outputs": [],
   "source": [
    "from sklearn.naive_bayes import  MultinomialNB"
   ]
  },
  {
   "cell_type": "code",
   "execution_count": 16,
   "id": "3637f2f6",
   "metadata": {},
   "outputs": [],
   "source": [
    "mnb = MultinomialNB()"
   ]
  },
  {
   "cell_type": "code",
   "execution_count": 17,
   "id": "9cff80d2",
   "metadata": {},
   "outputs": [
    {
     "data": {
      "text/html": [
       "<style>#sk-container-id-2 {color: black;background-color: white;}#sk-container-id-2 pre{padding: 0;}#sk-container-id-2 div.sk-toggleable {background-color: white;}#sk-container-id-2 label.sk-toggleable__label {cursor: pointer;display: block;width: 100%;margin-bottom: 0;padding: 0.3em;box-sizing: border-box;text-align: center;}#sk-container-id-2 label.sk-toggleable__label-arrow:before {content: \"▸\";float: left;margin-right: 0.25em;color: #696969;}#sk-container-id-2 label.sk-toggleable__label-arrow:hover:before {color: black;}#sk-container-id-2 div.sk-estimator:hover label.sk-toggleable__label-arrow:before {color: black;}#sk-container-id-2 div.sk-toggleable__content {max-height: 0;max-width: 0;overflow: hidden;text-align: left;background-color: #f0f8ff;}#sk-container-id-2 div.sk-toggleable__content pre {margin: 0.2em;color: black;border-radius: 0.25em;background-color: #f0f8ff;}#sk-container-id-2 input.sk-toggleable__control:checked~div.sk-toggleable__content {max-height: 200px;max-width: 100%;overflow: auto;}#sk-container-id-2 input.sk-toggleable__control:checked~label.sk-toggleable__label-arrow:before {content: \"▾\";}#sk-container-id-2 div.sk-estimator input.sk-toggleable__control:checked~label.sk-toggleable__label {background-color: #d4ebff;}#sk-container-id-2 div.sk-label input.sk-toggleable__control:checked~label.sk-toggleable__label {background-color: #d4ebff;}#sk-container-id-2 input.sk-hidden--visually {border: 0;clip: rect(1px 1px 1px 1px);clip: rect(1px, 1px, 1px, 1px);height: 1px;margin: -1px;overflow: hidden;padding: 0;position: absolute;width: 1px;}#sk-container-id-2 div.sk-estimator {font-family: monospace;background-color: #f0f8ff;border: 1px dotted black;border-radius: 0.25em;box-sizing: border-box;margin-bottom: 0.5em;}#sk-container-id-2 div.sk-estimator:hover {background-color: #d4ebff;}#sk-container-id-2 div.sk-parallel-item::after {content: \"\";width: 100%;border-bottom: 1px solid gray;flex-grow: 1;}#sk-container-id-2 div.sk-label:hover label.sk-toggleable__label {background-color: #d4ebff;}#sk-container-id-2 div.sk-serial::before {content: \"\";position: absolute;border-left: 1px solid gray;box-sizing: border-box;top: 0;bottom: 0;left: 50%;z-index: 0;}#sk-container-id-2 div.sk-serial {display: flex;flex-direction: column;align-items: center;background-color: white;padding-right: 0.2em;padding-left: 0.2em;position: relative;}#sk-container-id-2 div.sk-item {position: relative;z-index: 1;}#sk-container-id-2 div.sk-parallel {display: flex;align-items: stretch;justify-content: center;background-color: white;position: relative;}#sk-container-id-2 div.sk-item::before, #sk-container-id-2 div.sk-parallel-item::before {content: \"\";position: absolute;border-left: 1px solid gray;box-sizing: border-box;top: 0;bottom: 0;left: 50%;z-index: -1;}#sk-container-id-2 div.sk-parallel-item {display: flex;flex-direction: column;z-index: 1;position: relative;background-color: white;}#sk-container-id-2 div.sk-parallel-item:first-child::after {align-self: flex-end;width: 50%;}#sk-container-id-2 div.sk-parallel-item:last-child::after {align-self: flex-start;width: 50%;}#sk-container-id-2 div.sk-parallel-item:only-child::after {width: 0;}#sk-container-id-2 div.sk-dashed-wrapped {border: 1px dashed gray;margin: 0 0.4em 0.5em 0.4em;box-sizing: border-box;padding-bottom: 0.4em;background-color: white;}#sk-container-id-2 div.sk-label label {font-family: monospace;font-weight: bold;display: inline-block;line-height: 1.2em;}#sk-container-id-2 div.sk-label-container {text-align: center;}#sk-container-id-2 div.sk-container {/* jupyter's `normalize.less` sets `[hidden] { display: none; }` but bootstrap.min.css set `[hidden] { display: none !important; }` so we also need the `!important` here to be able to override the default hidden behavior on the sphinx rendered scikit-learn.org. See: https://github.com/scikit-learn/scikit-learn/issues/21755 */display: inline-block !important;position: relative;}#sk-container-id-2 div.sk-text-repr-fallback {display: none;}</style><div id=\"sk-container-id-2\" class=\"sk-top-container\"><div class=\"sk-text-repr-fallback\"><pre>MultinomialNB()</pre><b>In a Jupyter environment, please rerun this cell to show the HTML representation or trust the notebook. <br />On GitHub, the HTML representation is unable to render, please try loading this page with nbviewer.org.</b></div><div class=\"sk-container\" hidden><div class=\"sk-item\"><div class=\"sk-estimator sk-toggleable\"><input class=\"sk-toggleable__control sk-hidden--visually\" id=\"sk-estimator-id-2\" type=\"checkbox\" checked><label for=\"sk-estimator-id-2\" class=\"sk-toggleable__label sk-toggleable__label-arrow\">MultinomialNB</label><div class=\"sk-toggleable__content\"><pre>MultinomialNB()</pre></div></div></div></div></div>"
      ],
      "text/plain": [
       "MultinomialNB()"
      ]
     },
     "execution_count": 17,
     "metadata": {},
     "output_type": "execute_result"
    }
   ],
   "source": [
    "mnb.fit(X_train, y_train)"
   ]
  },
  {
   "cell_type": "code",
   "execution_count": 18,
   "id": "fb2ad487",
   "metadata": {},
   "outputs": [
    {
     "data": {
      "text/html": [
       "<style>#sk-container-id-3 {color: black;background-color: white;}#sk-container-id-3 pre{padding: 0;}#sk-container-id-3 div.sk-toggleable {background-color: white;}#sk-container-id-3 label.sk-toggleable__label {cursor: pointer;display: block;width: 100%;margin-bottom: 0;padding: 0.3em;box-sizing: border-box;text-align: center;}#sk-container-id-3 label.sk-toggleable__label-arrow:before {content: \"▸\";float: left;margin-right: 0.25em;color: #696969;}#sk-container-id-3 label.sk-toggleable__label-arrow:hover:before {color: black;}#sk-container-id-3 div.sk-estimator:hover label.sk-toggleable__label-arrow:before {color: black;}#sk-container-id-3 div.sk-toggleable__content {max-height: 0;max-width: 0;overflow: hidden;text-align: left;background-color: #f0f8ff;}#sk-container-id-3 div.sk-toggleable__content pre {margin: 0.2em;color: black;border-radius: 0.25em;background-color: #f0f8ff;}#sk-container-id-3 input.sk-toggleable__control:checked~div.sk-toggleable__content {max-height: 200px;max-width: 100%;overflow: auto;}#sk-container-id-3 input.sk-toggleable__control:checked~label.sk-toggleable__label-arrow:before {content: \"▾\";}#sk-container-id-3 div.sk-estimator input.sk-toggleable__control:checked~label.sk-toggleable__label {background-color: #d4ebff;}#sk-container-id-3 div.sk-label input.sk-toggleable__control:checked~label.sk-toggleable__label {background-color: #d4ebff;}#sk-container-id-3 input.sk-hidden--visually {border: 0;clip: rect(1px 1px 1px 1px);clip: rect(1px, 1px, 1px, 1px);height: 1px;margin: -1px;overflow: hidden;padding: 0;position: absolute;width: 1px;}#sk-container-id-3 div.sk-estimator {font-family: monospace;background-color: #f0f8ff;border: 1px dotted black;border-radius: 0.25em;box-sizing: border-box;margin-bottom: 0.5em;}#sk-container-id-3 div.sk-estimator:hover {background-color: #d4ebff;}#sk-container-id-3 div.sk-parallel-item::after {content: \"\";width: 100%;border-bottom: 1px solid gray;flex-grow: 1;}#sk-container-id-3 div.sk-label:hover label.sk-toggleable__label {background-color: #d4ebff;}#sk-container-id-3 div.sk-serial::before {content: \"\";position: absolute;border-left: 1px solid gray;box-sizing: border-box;top: 0;bottom: 0;left: 50%;z-index: 0;}#sk-container-id-3 div.sk-serial {display: flex;flex-direction: column;align-items: center;background-color: white;padding-right: 0.2em;padding-left: 0.2em;position: relative;}#sk-container-id-3 div.sk-item {position: relative;z-index: 1;}#sk-container-id-3 div.sk-parallel {display: flex;align-items: stretch;justify-content: center;background-color: white;position: relative;}#sk-container-id-3 div.sk-item::before, #sk-container-id-3 div.sk-parallel-item::before {content: \"\";position: absolute;border-left: 1px solid gray;box-sizing: border-box;top: 0;bottom: 0;left: 50%;z-index: -1;}#sk-container-id-3 div.sk-parallel-item {display: flex;flex-direction: column;z-index: 1;position: relative;background-color: white;}#sk-container-id-3 div.sk-parallel-item:first-child::after {align-self: flex-end;width: 50%;}#sk-container-id-3 div.sk-parallel-item:last-child::after {align-self: flex-start;width: 50%;}#sk-container-id-3 div.sk-parallel-item:only-child::after {width: 0;}#sk-container-id-3 div.sk-dashed-wrapped {border: 1px dashed gray;margin: 0 0.4em 0.5em 0.4em;box-sizing: border-box;padding-bottom: 0.4em;background-color: white;}#sk-container-id-3 div.sk-label label {font-family: monospace;font-weight: bold;display: inline-block;line-height: 1.2em;}#sk-container-id-3 div.sk-label-container {text-align: center;}#sk-container-id-3 div.sk-container {/* jupyter's `normalize.less` sets `[hidden] { display: none; }` but bootstrap.min.css set `[hidden] { display: none !important; }` so we also need the `!important` here to be able to override the default hidden behavior on the sphinx rendered scikit-learn.org. See: https://github.com/scikit-learn/scikit-learn/issues/21755 */display: inline-block !important;position: relative;}#sk-container-id-3 div.sk-text-repr-fallback {display: none;}</style><div id=\"sk-container-id-3\" class=\"sk-top-container\"><div class=\"sk-text-repr-fallback\"><pre>LogisticRegression(max_iter=1000)</pre><b>In a Jupyter environment, please rerun this cell to show the HTML representation or trust the notebook. <br />On GitHub, the HTML representation is unable to render, please try loading this page with nbviewer.org.</b></div><div class=\"sk-container\" hidden><div class=\"sk-item\"><div class=\"sk-estimator sk-toggleable\"><input class=\"sk-toggleable__control sk-hidden--visually\" id=\"sk-estimator-id-3\" type=\"checkbox\" checked><label for=\"sk-estimator-id-3\" class=\"sk-toggleable__label sk-toggleable__label-arrow\">LogisticRegression</label><div class=\"sk-toggleable__content\"><pre>LogisticRegression(max_iter=1000)</pre></div></div></div></div></div>"
      ],
      "text/plain": [
       "LogisticRegression(max_iter=1000)"
      ]
     },
     "execution_count": 18,
     "metadata": {},
     "output_type": "execute_result"
    }
   ],
   "source": [
    "from sklearn.linear_model import LogisticRegression\n",
    "log_model = LogisticRegression(max_iter = 1000)\n",
    "log_model.fit(X_train, y_train)"
   ]
  },
  {
   "cell_type": "code",
   "execution_count": 19,
   "id": "020b63af",
   "metadata": {},
   "outputs": [],
   "source": [
    "from sklearn.svm import SVC, LinearSVC"
   ]
  },
  {
   "cell_type": "code",
   "execution_count": 20,
   "id": "e5b9a372",
   "metadata": {},
   "outputs": [
    {
     "data": {
      "text/html": [
       "<style>#sk-container-id-4 {color: black;background-color: white;}#sk-container-id-4 pre{padding: 0;}#sk-container-id-4 div.sk-toggleable {background-color: white;}#sk-container-id-4 label.sk-toggleable__label {cursor: pointer;display: block;width: 100%;margin-bottom: 0;padding: 0.3em;box-sizing: border-box;text-align: center;}#sk-container-id-4 label.sk-toggleable__label-arrow:before {content: \"▸\";float: left;margin-right: 0.25em;color: #696969;}#sk-container-id-4 label.sk-toggleable__label-arrow:hover:before {color: black;}#sk-container-id-4 div.sk-estimator:hover label.sk-toggleable__label-arrow:before {color: black;}#sk-container-id-4 div.sk-toggleable__content {max-height: 0;max-width: 0;overflow: hidden;text-align: left;background-color: #f0f8ff;}#sk-container-id-4 div.sk-toggleable__content pre {margin: 0.2em;color: black;border-radius: 0.25em;background-color: #f0f8ff;}#sk-container-id-4 input.sk-toggleable__control:checked~div.sk-toggleable__content {max-height: 200px;max-width: 100%;overflow: auto;}#sk-container-id-4 input.sk-toggleable__control:checked~label.sk-toggleable__label-arrow:before {content: \"▾\";}#sk-container-id-4 div.sk-estimator input.sk-toggleable__control:checked~label.sk-toggleable__label {background-color: #d4ebff;}#sk-container-id-4 div.sk-label input.sk-toggleable__control:checked~label.sk-toggleable__label {background-color: #d4ebff;}#sk-container-id-4 input.sk-hidden--visually {border: 0;clip: rect(1px 1px 1px 1px);clip: rect(1px, 1px, 1px, 1px);height: 1px;margin: -1px;overflow: hidden;padding: 0;position: absolute;width: 1px;}#sk-container-id-4 div.sk-estimator {font-family: monospace;background-color: #f0f8ff;border: 1px dotted black;border-radius: 0.25em;box-sizing: border-box;margin-bottom: 0.5em;}#sk-container-id-4 div.sk-estimator:hover {background-color: #d4ebff;}#sk-container-id-4 div.sk-parallel-item::after {content: \"\";width: 100%;border-bottom: 1px solid gray;flex-grow: 1;}#sk-container-id-4 div.sk-label:hover label.sk-toggleable__label {background-color: #d4ebff;}#sk-container-id-4 div.sk-serial::before {content: \"\";position: absolute;border-left: 1px solid gray;box-sizing: border-box;top: 0;bottom: 0;left: 50%;z-index: 0;}#sk-container-id-4 div.sk-serial {display: flex;flex-direction: column;align-items: center;background-color: white;padding-right: 0.2em;padding-left: 0.2em;position: relative;}#sk-container-id-4 div.sk-item {position: relative;z-index: 1;}#sk-container-id-4 div.sk-parallel {display: flex;align-items: stretch;justify-content: center;background-color: white;position: relative;}#sk-container-id-4 div.sk-item::before, #sk-container-id-4 div.sk-parallel-item::before {content: \"\";position: absolute;border-left: 1px solid gray;box-sizing: border-box;top: 0;bottom: 0;left: 50%;z-index: -1;}#sk-container-id-4 div.sk-parallel-item {display: flex;flex-direction: column;z-index: 1;position: relative;background-color: white;}#sk-container-id-4 div.sk-parallel-item:first-child::after {align-self: flex-end;width: 50%;}#sk-container-id-4 div.sk-parallel-item:last-child::after {align-self: flex-start;width: 50%;}#sk-container-id-4 div.sk-parallel-item:only-child::after {width: 0;}#sk-container-id-4 div.sk-dashed-wrapped {border: 1px dashed gray;margin: 0 0.4em 0.5em 0.4em;box-sizing: border-box;padding-bottom: 0.4em;background-color: white;}#sk-container-id-4 div.sk-label label {font-family: monospace;font-weight: bold;display: inline-block;line-height: 1.2em;}#sk-container-id-4 div.sk-label-container {text-align: center;}#sk-container-id-4 div.sk-container {/* jupyter's `normalize.less` sets `[hidden] { display: none; }` but bootstrap.min.css set `[hidden] { display: none !important; }` so we also need the `!important` here to be able to override the default hidden behavior on the sphinx rendered scikit-learn.org. See: https://github.com/scikit-learn/scikit-learn/issues/21755 */display: inline-block !important;position: relative;}#sk-container-id-4 div.sk-text-repr-fallback {display: none;}</style><div id=\"sk-container-id-4\" class=\"sk-top-container\"><div class=\"sk-text-repr-fallback\"><pre>SVC()</pre><b>In a Jupyter environment, please rerun this cell to show the HTML representation or trust the notebook. <br />On GitHub, the HTML representation is unable to render, please try loading this page with nbviewer.org.</b></div><div class=\"sk-container\" hidden><div class=\"sk-item\"><div class=\"sk-estimator sk-toggleable\"><input class=\"sk-toggleable__control sk-hidden--visually\" id=\"sk-estimator-id-4\" type=\"checkbox\" checked><label for=\"sk-estimator-id-4\" class=\"sk-toggleable__label sk-toggleable__label-arrow\">SVC</label><div class=\"sk-toggleable__content\"><pre>SVC()</pre></div></div></div></div></div>"
      ],
      "text/plain": [
       "SVC()"
      ]
     },
     "execution_count": 20,
     "metadata": {},
     "output_type": "execute_result"
    }
   ],
   "source": [
    "rb_svc = SVC()\n",
    "rb_svc.fit(X_train, y_train)"
   ]
  },
  {
   "cell_type": "code",
   "execution_count": 21,
   "id": "a13a6c36",
   "metadata": {},
   "outputs": [
    {
     "data": {
      "text/html": [
       "<style>#sk-container-id-5 {color: black;background-color: white;}#sk-container-id-5 pre{padding: 0;}#sk-container-id-5 div.sk-toggleable {background-color: white;}#sk-container-id-5 label.sk-toggleable__label {cursor: pointer;display: block;width: 100%;margin-bottom: 0;padding: 0.3em;box-sizing: border-box;text-align: center;}#sk-container-id-5 label.sk-toggleable__label-arrow:before {content: \"▸\";float: left;margin-right: 0.25em;color: #696969;}#sk-container-id-5 label.sk-toggleable__label-arrow:hover:before {color: black;}#sk-container-id-5 div.sk-estimator:hover label.sk-toggleable__label-arrow:before {color: black;}#sk-container-id-5 div.sk-toggleable__content {max-height: 0;max-width: 0;overflow: hidden;text-align: left;background-color: #f0f8ff;}#sk-container-id-5 div.sk-toggleable__content pre {margin: 0.2em;color: black;border-radius: 0.25em;background-color: #f0f8ff;}#sk-container-id-5 input.sk-toggleable__control:checked~div.sk-toggleable__content {max-height: 200px;max-width: 100%;overflow: auto;}#sk-container-id-5 input.sk-toggleable__control:checked~label.sk-toggleable__label-arrow:before {content: \"▾\";}#sk-container-id-5 div.sk-estimator input.sk-toggleable__control:checked~label.sk-toggleable__label {background-color: #d4ebff;}#sk-container-id-5 div.sk-label input.sk-toggleable__control:checked~label.sk-toggleable__label {background-color: #d4ebff;}#sk-container-id-5 input.sk-hidden--visually {border: 0;clip: rect(1px 1px 1px 1px);clip: rect(1px, 1px, 1px, 1px);height: 1px;margin: -1px;overflow: hidden;padding: 0;position: absolute;width: 1px;}#sk-container-id-5 div.sk-estimator {font-family: monospace;background-color: #f0f8ff;border: 1px dotted black;border-radius: 0.25em;box-sizing: border-box;margin-bottom: 0.5em;}#sk-container-id-5 div.sk-estimator:hover {background-color: #d4ebff;}#sk-container-id-5 div.sk-parallel-item::after {content: \"\";width: 100%;border-bottom: 1px solid gray;flex-grow: 1;}#sk-container-id-5 div.sk-label:hover label.sk-toggleable__label {background-color: #d4ebff;}#sk-container-id-5 div.sk-serial::before {content: \"\";position: absolute;border-left: 1px solid gray;box-sizing: border-box;top: 0;bottom: 0;left: 50%;z-index: 0;}#sk-container-id-5 div.sk-serial {display: flex;flex-direction: column;align-items: center;background-color: white;padding-right: 0.2em;padding-left: 0.2em;position: relative;}#sk-container-id-5 div.sk-item {position: relative;z-index: 1;}#sk-container-id-5 div.sk-parallel {display: flex;align-items: stretch;justify-content: center;background-color: white;position: relative;}#sk-container-id-5 div.sk-item::before, #sk-container-id-5 div.sk-parallel-item::before {content: \"\";position: absolute;border-left: 1px solid gray;box-sizing: border-box;top: 0;bottom: 0;left: 50%;z-index: -1;}#sk-container-id-5 div.sk-parallel-item {display: flex;flex-direction: column;z-index: 1;position: relative;background-color: white;}#sk-container-id-5 div.sk-parallel-item:first-child::after {align-self: flex-end;width: 50%;}#sk-container-id-5 div.sk-parallel-item:last-child::after {align-self: flex-start;width: 50%;}#sk-container-id-5 div.sk-parallel-item:only-child::after {width: 0;}#sk-container-id-5 div.sk-dashed-wrapped {border: 1px dashed gray;margin: 0 0.4em 0.5em 0.4em;box-sizing: border-box;padding-bottom: 0.4em;background-color: white;}#sk-container-id-5 div.sk-label label {font-family: monospace;font-weight: bold;display: inline-block;line-height: 1.2em;}#sk-container-id-5 div.sk-label-container {text-align: center;}#sk-container-id-5 div.sk-container {/* jupyter's `normalize.less` sets `[hidden] { display: none; }` but bootstrap.min.css set `[hidden] { display: none !important; }` so we also need the `!important` here to be able to override the default hidden behavior on the sphinx rendered scikit-learn.org. See: https://github.com/scikit-learn/scikit-learn/issues/21755 */display: inline-block !important;position: relative;}#sk-container-id-5 div.sk-text-repr-fallback {display: none;}</style><div id=\"sk-container-id-5\" class=\"sk-top-container\"><div class=\"sk-text-repr-fallback\"><pre>LinearSVC()</pre><b>In a Jupyter environment, please rerun this cell to show the HTML representation or trust the notebook. <br />On GitHub, the HTML representation is unable to render, please try loading this page with nbviewer.org.</b></div><div class=\"sk-container\" hidden><div class=\"sk-item\"><div class=\"sk-estimator sk-toggleable\"><input class=\"sk-toggleable__control sk-hidden--visually\" id=\"sk-estimator-id-5\" type=\"checkbox\" checked><label for=\"sk-estimator-id-5\" class=\"sk-toggleable__label sk-toggleable__label-arrow\">LinearSVC</label><div class=\"sk-toggleable__content\"><pre>LinearSVC()</pre></div></div></div></div></div>"
      ],
      "text/plain": [
       "LinearSVC()"
      ]
     },
     "execution_count": 21,
     "metadata": {},
     "output_type": "execute_result"
    }
   ],
   "source": [
    "linear_svc = LinearSVC()\n",
    "linear_svc.fit(X_train, y_train)"
   ]
  },
  {
   "cell_type": "code",
   "execution_count": 22,
   "id": "def946af",
   "metadata": {},
   "outputs": [],
   "source": [
    "from sklearn.metrics import classification_report, ConfusionMatrixDisplay, confusion_matrix"
   ]
  },
  {
   "cell_type": "code",
   "execution_count": 23,
   "id": "ebd195e3",
   "metadata": {},
   "outputs": [],
   "source": [
    "def report_model(model):\n",
    "    preds = model.predict(X_test)\n",
    "    print(classification_report(y_test, preds))\n",
    "    cm = confusion_matrix(y_test, preds)\n",
    "    disp = ConfusionMatrixDisplay(confusion_matrix=cm, display_labels=model.classes_)\n",
    "    disp.plot()\n",
    "    plt.show()"
   ]
  },
  {
   "cell_type": "code",
   "execution_count": 24,
   "id": "4bc74730",
   "metadata": {},
   "outputs": [
    {
     "name": "stdout",
     "output_type": "stream",
     "text": [
      "              precision    recall  f1-score   support\n",
      "\n",
      "           0       0.98      0.73      0.84      4203\n",
      "           1       0.79      0.99      0.88      4191\n",
      "\n",
      "    accuracy                           0.86      8394\n",
      "   macro avg       0.89      0.86      0.86      8394\n",
      "weighted avg       0.89      0.86      0.86      8394\n",
      "\n"
     ]
    },
    {
     "data": {
      "image/png": "[encoded data removed]",
      "text/plain": [
       "<Figure size 640x480 with 2 Axes>"
      ]
     },
     "metadata": {},
     "output_type": "display_data"
    }
   ],
   "source": [
    "report_model(mnb)"
   ]
  },
  {
   "cell_type": "code",
   "execution_count": 25,
   "id": "78dc41a5",
   "metadata": {},
   "outputs": [
    {
     "name": "stdout",
     "output_type": "stream",
     "text": [
      "              precision    recall  f1-score   support\n",
      "\n",
      "           0       0.91      0.94      0.92      4203\n",
      "           1       0.93      0.91      0.92      4191\n",
      "\n",
      "    accuracy                           0.92      8394\n",
      "   macro avg       0.92      0.92      0.92      8394\n",
      "weighted avg       0.92      0.92      0.92      8394\n",
      "\n"
     ]
    },
    {
     "data": {
      "image/png": "[encoded data removed]",
      "text/plain": [
       "<Figure size 640x480 with 2 Axes>"
      ]
     },
     "metadata": {},
     "output_type": "display_data"
    }
   ],
   "source": [
    "report_model(log_model)"
   ]
  },
  {
   "cell_type": "code",
   "execution_count": 26,
   "id": "6766ed5c",
   "metadata": {},
   "outputs": [
    {
     "name": "stdout",
     "output_type": "stream",
     "text": [
      "              precision    recall  f1-score   support\n",
      "\n",
      "           0       0.91      0.94      0.92      4203\n",
      "           1       0.93      0.91      0.92      4191\n",
      "\n",
      "    accuracy                           0.92      8394\n",
      "   macro avg       0.92      0.92      0.92      8394\n",
      "weighted avg       0.92      0.92      0.92      8394\n",
      "\n"
     ]
    },
    {
     "data": {
      "image/png": "[encoded data removed]",
      "text/plain": [
       "<Figure size 640x480 with 2 Axes>"
      ]
     },
     "metadata": {},
     "output_type": "display_data"
    }
   ],
   "source": [
    "report_model(rb_svc)"
   ]
  },
  {
   "cell_type": "code",
   "execution_count": 27,
   "id": "cceaa2c6",
   "metadata": {},
   "outputs": [
    {
     "name": "stdout",
     "output_type": "stream",
     "text": [
      "              precision    recall  f1-score   support\n",
      "\n",
      "           0       0.91      0.93      0.92      4203\n",
      "           1       0.93      0.91      0.92      4191\n",
      "\n",
      "    accuracy                           0.92      8394\n",
      "   macro avg       0.92      0.92      0.92      8394\n",
      "weighted avg       0.92      0.92      0.92      8394\n",
      "\n"
     ]
    },
    {
     "data": {
      "image/png": "[encoded data removed]",
      "text/plain": [
       "<Figure size 640x480 with 2 Axes>"
      ]
     },
     "metadata": {},
     "output_type": "display_data"
    }
   ],
   "source": [
    "report_model(linear_svc)"
   ]
  },
  {
   "cell_type": "markdown",
   "id": "4aea177c",
   "metadata": {},
   "source": [
    "## We found the radial basis kernel's SVM classifier is a good model."
   ]
  },
  {
   "cell_type": "code",
   "execution_count": 28,
   "id": "5e54debf",
   "metadata": {},
   "outputs": [
    {
     "data": {
      "text/plain": [
       "'dear american teens question dutch person heard guys get way easier things learn age us sooooo thth graders like  right guys learn math'"
      ]
     },
     "execution_count": 28,
     "metadata": {},
     "output_type": "execute_result"
    }
   ],
   "source": [
    "df['text'][0]"
   ]
  },
  {
   "cell_type": "code",
   "execution_count": 29,
   "id": "e355d4dd",
   "metadata": {},
   "outputs": [
    {
     "data": {
      "text/plain": [
       "0"
      ]
     },
     "execution_count": 29,
     "metadata": {},
     "output_type": "execute_result"
    }
   ],
   "source": [
    "df['label'][0]"
   ]
  },
  {
   "cell_type": "code",
   "execution_count": 34,
   "id": "4b37c3ec",
   "metadata": {},
   "outputs": [
    {
     "data": {
      "text/plain": [
       "array([1], dtype=int64)"
      ]
     },
     "execution_count": 34,
     "metadata": {},
     "output_type": "execute_result"
    }
   ],
   "source": [
    "rb_svc.predict(tfidf.transform(['I am done for my life']))"
   ]
  },
  {
   "cell_type": "markdown",
   "id": "bc7008bd",
   "metadata": {},
   "source": [
    "# Now training the model on the entire dataset and making a pipeline."
   ]
  },
  {
   "cell_type": "code",
   "execution_count": 35,
   "id": "0f21742f",
   "metadata": {},
   "outputs": [],
   "source": [
    "from sklearn.pipeline import Pipeline"
   ]
  },
  {
   "cell_type": "code",
   "execution_count": 36,
   "id": "67187408",
   "metadata": {},
   "outputs": [],
   "source": [
    "pipe = Pipeline([\n",
    "    ('tfidf', TfidfVectorizer()),\n",
    "    ('svc', SVC())\n",
    "])"
   ]
  },
  {
   "cell_type": "code",
   "execution_count": 37,
   "id": "12ef359e",
   "metadata": {},
   "outputs": [
    {
     "data": {
      "text/html": [
       "<style>#sk-container-id-6 {color: black;background-color: white;}#sk-container-id-6 pre{padding: 0;}#sk-container-id-6 div.sk-toggleable {background-color: white;}#sk-container-id-6 label.sk-toggleable__label {cursor: pointer;display: block;width: 100%;margin-bottom: 0;padding: 0.3em;box-sizing: border-box;text-align: center;}#sk-container-id-6 label.sk-toggleable__label-arrow:before {content: \"▸\";float: left;margin-right: 0.25em;color: #696969;}#sk-container-id-6 label.sk-toggleable__label-arrow:hover:before {color: black;}#sk-container-id-6 div.sk-estimator:hover label.sk-toggleable__label-arrow:before {color: black;}#sk-container-id-6 div.sk-toggleable__content {max-height: 0;max-width: 0;overflow: hidden;text-align: left;background-color: #f0f8ff;}#sk-container-id-6 div.sk-toggleable__content pre {margin: 0.2em;color: black;border-radius: 0.25em;background-color: #f0f8ff;}#sk-container-id-6 input.sk-toggleable__control:checked~div.sk-toggleable__content {max-height: 200px;max-width: 100%;overflow: auto;}#sk-container-id-6 input.sk-toggleable__control:checked~label.sk-toggleable__label-arrow:before {content: \"▾\";}#sk-container-id-6 div.sk-estimator input.sk-toggleable__control:checked~label.sk-toggleable__label {background-color: #d4ebff;}#sk-container-id-6 div.sk-label input.sk-toggleable__control:checked~label.sk-toggleable__label {background-color: #d4ebff;}#sk-container-id-6 input.sk-hidden--visually {border: 0;clip: rect(1px 1px 1px 1px);clip: rect(1px, 1px, 1px, 1px);height: 1px;margin: -1px;overflow: hidden;padding: 0;position: absolute;width: 1px;}#sk-container-id-6 div.sk-estimator {font-family: monospace;background-color: #f0f8ff;border: 1px dotted black;border-radius: 0.25em;box-sizing: border-box;margin-bottom: 0.5em;}#sk-container-id-6 div.sk-estimator:hover {background-color: #d4ebff;}#sk-container-id-6 div.sk-parallel-item::after {content: \"\";width: 100%;border-bottom: 1px solid gray;flex-grow: 1;}#sk-container-id-6 div.sk-label:hover label.sk-toggleable__label {background-color: #d4ebff;}#sk-container-id-6 div.sk-serial::before {content: \"\";position: absolute;border-left: 1px solid gray;box-sizing: border-box;top: 0;bottom: 0;left: 50%;z-index: 0;}#sk-container-id-6 div.sk-serial {display: flex;flex-direction: column;align-items: center;background-color: white;padding-right: 0.2em;padding-left: 0.2em;position: relative;}#sk-container-id-6 div.sk-item {position: relative;z-index: 1;}#sk-container-id-6 div.sk-parallel {display: flex;align-items: stretch;justify-content: center;background-color: white;position: relative;}#sk-container-id-6 div.sk-item::before, #sk-container-id-6 div.sk-parallel-item::before {content: \"\";position: absolute;border-left: 1px solid gray;box-sizing: border-box;top: 0;bottom: 0;left: 50%;z-index: -1;}#sk-container-id-6 div.sk-parallel-item {display: flex;flex-direction: column;z-index: 1;position: relative;background-color: white;}#sk-container-id-6 div.sk-parallel-item:first-child::after {align-self: flex-end;width: 50%;}#sk-container-id-6 div.sk-parallel-item:last-child::after {align-self: flex-start;width: 50%;}#sk-container-id-6 div.sk-parallel-item:only-child::after {width: 0;}#sk-container-id-6 div.sk-dashed-wrapped {border: 1px dashed gray;margin: 0 0.4em 0.5em 0.4em;box-sizing: border-box;padding-bottom: 0.4em;background-color: white;}#sk-container-id-6 div.sk-label label {font-family: monospace;font-weight: bold;display: inline-block;line-height: 1.2em;}#sk-container-id-6 div.sk-label-container {text-align: center;}#sk-container-id-6 div.sk-container {/* jupyter's `normalize.less` sets `[hidden] { display: none; }` but bootstrap.min.css set `[hidden] { display: none !important; }` so we also need the `!important` here to be able to override the default hidden behavior on the sphinx rendered scikit-learn.org. See: https://github.com/scikit-learn/scikit-learn/issues/21755 */display: inline-block !important;position: relative;}#sk-container-id-6 div.sk-text-repr-fallback {display: none;}</style><div id=\"sk-container-id-6\" class=\"sk-top-container\"><div class=\"sk-text-repr-fallback\"><pre>Pipeline(steps=[(&#x27;tfidf&#x27;, TfidfVectorizer()), (&#x27;svc&#x27;, SVC())])</pre><b>In a Jupyter environment, please rerun this cell to show the HTML representation or trust the notebook. <br />On GitHub, the HTML representation is unable to render, please try loading this page with nbviewer.org.</b></div><div class=\"sk-container\" hidden><div class=\"sk-item sk-dashed-wrapped\"><div class=\"sk-label-container\"><div class=\"sk-label sk-toggleable\"><input class=\"sk-toggleable__control sk-hidden--visually\" id=\"sk-estimator-id-6\" type=\"checkbox\" ><label for=\"sk-estimator-id-6\" class=\"sk-toggleable__label sk-toggleable__label-arrow\">Pipeline</label><div class=\"sk-toggleable__content\"><pre>Pipeline(steps=[(&#x27;tfidf&#x27;, TfidfVectorizer()), (&#x27;svc&#x27;, SVC())])</pre></div></div></div><div class=\"sk-serial\"><div class=\"sk-item\"><div class=\"sk-estimator sk-toggleable\"><input class=\"sk-toggleable__control sk-hidden--visually\" id=\"sk-estimator-id-7\" type=\"checkbox\" ><label for=\"sk-estimator-id-7\" class=\"sk-toggleable__label sk-toggleable__label-arrow\">TfidfVectorizer</label><div class=\"sk-toggleable__content\"><pre>TfidfVectorizer()</pre></div></div></div><div class=\"sk-item\"><div class=\"sk-estimator sk-toggleable\"><input class=\"sk-toggleable__control sk-hidden--visually\" id=\"sk-estimator-id-8\" type=\"checkbox\" ><label for=\"sk-estimator-id-8\" class=\"sk-toggleable__label sk-toggleable__label-arrow\">SVC</label><div class=\"sk-toggleable__content\"><pre>SVC()</pre></div></div></div></div></div></div></div>"
      ],
      "text/plain": [
       "Pipeline(steps=[('tfidf', TfidfVectorizer()), ('svc', SVC())])"
      ]
     },
     "execution_count": 37,
     "metadata": {},
     "output_type": "execute_result"
    }
   ],
   "source": [
    "pipe.fit(X, y)"
   ]
  },
  {
   "cell_type": "code",
   "execution_count": 39,
   "id": "b823611a",
   "metadata": {},
   "outputs": [],
   "source": [
    "import joblib"
   ]
  },
  {
   "cell_type": "code",
   "execution_count": 44,
   "id": "bcc0d56f",
   "metadata": {},
   "outputs": [
    {
     "data": {
      "text/plain": [
       "['trained_model.joblib']"
      ]
     },
     "execution_count": 44,
     "metadata": {},
     "output_type": "execute_result"
    }
   ],
   "source": [
    "joblib.dump(pipe, 'trained_model.joblib')"
   ]
  },
  {
   "cell_type": "code",
   "execution_count": 45,
   "id": "9730ea6b",
   "metadata": {},
   "outputs": [
    {
     "data": {
      "text/plain": [
       "array([1], dtype=int64)"
      ]
     },
     "execution_count": 45,
     "metadata": {},
     "output_type": "execute_result"
    }
   ],
   "source": [
    "pipe.predict(['I am done for my life'])"
   ]
  },
  {
   "cell_type": "markdown",
   "id": "5d7b282c",
   "metadata": {},
   "source": [
    "## Trying Deep Learning Techniques."
   ]
  },
  {
   "cell_type": "code",
   "execution_count": 43,
   "id": "9fab9e95",
   "metadata": {},
   "outputs": [
    {
     "data": {
      "text/plain": [
       "(19583, 58733)"
      ]
     },
     "execution_count": 43,
     "metadata": {},
     "output_type": "execute_result"
    }
   ],
   "source": [
    "X_train.shape"
   ]
  },
  {
   "cell_type": "code",
   "execution_count": 47,
   "id": "967ec141",
   "metadata": {},
   "outputs": [],
   "source": [
    "X_train_dl, X_test_dl, y_train_dl, y_test_dl = train_test_split(X, y, test_size=0.3, random_state=101)"
   ]
  },
  {
   "cell_type": "code",
   "execution_count": 48,
   "id": "591275a0",
   "metadata": {},
   "outputs": [
    {
     "data": {
      "text/plain": [
       "(19583,)"
      ]
     },
     "execution_count": 48,
     "metadata": {},
     "output_type": "execute_result"
    }
   ],
   "source": [
    "X_train_dl.shape"
   ]
  },
  {
   "cell_type": "code",
   "execution_count": 50,
   "id": "c5deff76",
   "metadata": {},
   "outputs": [],
   "source": [
    "from tensorflow.keras.preprocessing.text import Tokenizer\n",
    "from tensorflow.keras.preprocessing.sequence import pad_sequences"
   ]
  },
  {
   "cell_type": "code",
   "execution_count": 63,
   "id": "b5044716",
   "metadata": {},
   "outputs": [],
   "source": [
    "length_array = []"
   ]
  },
  {
   "cell_type": "code",
   "execution_count": 65,
   "id": "68d0482b",
   "metadata": {},
   "outputs": [],
   "source": [
    "for i in range(len(df)):\n",
    "    length_array.append(len(df['text'][i]))"
   ]
  },
  {
   "cell_type": "code",
   "execution_count": 66,
   "id": "a95a4376",
   "metadata": {},
   "outputs": [
    {
     "data": {
      "text/plain": [
       "[135,\n",
       " 117,\n",
       " 450,\n",
       " 594,\n",
       " 2133,\n",
       " 411,\n",
       " 455,\n",
       " 349,\n",
       " 75,\n",
       " 445,\n",
       " 83,\n",
       " 69,\n",
       " 29,\n",
       " 222,\n",
       " 437,\n",
       " 29,\n",
       " 769,\n",
       " 408,\n",
       " 1197,\n",
       " 84,\n",
       " 314,\n",
       " 74,\n",
       " 1136,\n",
       " 341,\n",
       " 776,\n",
       " 53,\n",
       " 141,\n",
       " 783,\n",
       " 54,\n",
       " 53,\n",
       " 254,\n",
       " 66,\n",
       " 530,\n",
       " 854,\n",
       " 282,\n",
       " 100,\n",
       " 677,\n",
       " 64,\n",
       " 10,\n",
       " 210,\n",
       " 109,\n",
       " 2549,\n",
       " 131,\n",
       " 531,\n",
       " 140,\n",
       " 2303,\n",
       " 149,\n",
       " 171,\n",
       " 90,\n",
       " 641,\n",
       " 423,\n",
       " 304,\n",
       " 42,\n",
       " 439,\n",
       " 300,\n",
       " 163,\n",
       " 368,\n",
       " 721,\n",
       " 353,\n",
       " 137,\n",
       " 28,\n",
       " 221,\n",
       " 868,\n",
       " 208,\n",
       " 468,\n",
       " 1916,\n",
       " 69,\n",
       " 69,\n",
       " 72,\n",
       " 115,\n",
       " 98,\n",
       " 71,\n",
       " 211,\n",
       " 146,\n",
       " 618,\n",
       " 107,\n",
       " 157,\n",
       " 72,\n",
       " 136,\n",
       " 63,\n",
       " 881,\n",
       " 803,\n",
       " 3186,\n",
       " 243,\n",
       " 363,\n",
       " 524,\n",
       " 959,\n",
       " 59,\n",
       " 245,\n",
       " 31,\n",
       " 65,\n",
       " 293,\n",
       " 112,\n",
       " 918,\n",
       " 37,\n",
       " 504,\n",
       " 364,\n",
       " 139,\n",
       " 1343,\n",
       " 1181,\n",
       " 772,\n",
       " 175,\n",
       " 76,\n",
       " 98,\n",
       " 249,\n",
       " 1064,\n",
       " 2899,\n",
       " 383,\n",
       " 134,\n",
       " 43,\n",
       " 176,\n",
       " 966,\n",
       " 464,\n",
       " 138,\n",
       " 60,\n",
       " 1243,\n",
       " 265,\n",
       " 61,\n",
       " 144,\n",
       " 53,\n",
       " 469,\n",
       " 821,\n",
       " 35,\n",
       " 403,\n",
       " 87,\n",
       " 207,\n",
       " 354,\n",
       " 280,\n",
       " 77,\n",
       " 212,\n",
       " 162,\n",
       " 110,\n",
       " 274,\n",
       " 46,\n",
       " 1487,\n",
       " 490,\n",
       " 1281,\n",
       " 250,\n",
       " 472,\n",
       " 2036,\n",
       " 837,\n",
       " 158,\n",
       " 371,\n",
       " 107,\n",
       " 106,\n",
       " 829,\n",
       " 254,\n",
       " 287,\n",
       " 191,\n",
       " 56,\n",
       " 1016,\n",
       " 24,\n",
       " 1410,\n",
       " 351,\n",
       " 630,\n",
       " 42,\n",
       " 103,\n",
       " 1032,\n",
       " 123,\n",
       " 132,\n",
       " 672,\n",
       " 104,\n",
       " 471,\n",
       " 27,\n",
       " 276,\n",
       " 107,\n",
       " 2019,\n",
       " 118,\n",
       " 1019,\n",
       " 87,\n",
       " 218,\n",
       " 612,\n",
       " 239,\n",
       " 110,\n",
       " 325,\n",
       " 325,\n",
       " 100,\n",
       " 160,\n",
       " 150,\n",
       " 336,\n",
       " 48,\n",
       " 99,\n",
       " 144,\n",
       " 1064,\n",
       " 294,\n",
       " 444,\n",
       " 462,\n",
       " 288,\n",
       " 612,\n",
       " 111,\n",
       " 80,\n",
       " 293,\n",
       " 91,\n",
       " 38,\n",
       " 336,\n",
       " 151,\n",
       " 80,\n",
       " 703,\n",
       " 399,\n",
       " 1343,\n",
       " 41,\n",
       " 87,\n",
       " 560,\n",
       " 392,\n",
       " 31,\n",
       " 169,\n",
       " 446,\n",
       " 60,\n",
       " 111,\n",
       " 406,\n",
       " 58,\n",
       " 981,\n",
       " 260,\n",
       " 1993,\n",
       " 468,\n",
       " 143,\n",
       " 575,\n",
       " 85,\n",
       " 186,\n",
       " 238,\n",
       " 356,\n",
       " 426,\n",
       " 601,\n",
       " 87,\n",
       " 516,\n",
       " 148,\n",
       " 173,\n",
       " 637,\n",
       " 478,\n",
       " 41,\n",
       " 72,\n",
       " 307,\n",
       " 213,\n",
       " 127,\n",
       " 1230,\n",
       " 91,\n",
       " 212,\n",
       " 825,\n",
       " 150,\n",
       " 58,\n",
       " 664,\n",
       " 633,\n",
       " 316,\n",
       " 77,\n",
       " 480,\n",
       " 645,\n",
       " 1003,\n",
       " 402,\n",
       " 1468,\n",
       " 107,\n",
       " 121,\n",
       " 1359,\n",
       " 3208,\n",
       " 79,\n",
       " 106,\n",
       " 638,\n",
       " 434,\n",
       " 79,\n",
       " 1540,\n",
       " 107,\n",
       " 555,\n",
       " 354,\n",
       " 274,\n",
       " 656,\n",
       " 612,\n",
       " 78,\n",
       " 108,\n",
       " 294,\n",
       " 1875,\n",
       " 26,\n",
       " 105,\n",
       " 58,\n",
       " 517,\n",
       " 1150,\n",
       " 579,\n",
       " 55,\n",
       " 359,\n",
       " 530,\n",
       " 202,\n",
       " 565,\n",
       " 177,\n",
       " 96,\n",
       " 156,\n",
       " 421,\n",
       " 249,\n",
       " 440,\n",
       " 588,\n",
       " 68,\n",
       " 147,\n",
       " 134,\n",
       " 446,\n",
       " 315,\n",
       " 442,\n",
       " 1135,\n",
       " 274,\n",
       " 68,\n",
       " 83,\n",
       " 1049,\n",
       " 1268,\n",
       " 840,\n",
       " 157,\n",
       " 558,\n",
       " 73,\n",
       " 303,\n",
       " 80,\n",
       " 14,\n",
       " 301,\n",
       " 119,\n",
       " 306,\n",
       " 75,\n",
       " 464,\n",
       " 59,\n",
       " 65,\n",
       " 275,\n",
       " 22,\n",
       " 138,\n",
       " 454,\n",
       " 147,\n",
       " 464,\n",
       " 204,\n",
       " 148,\n",
       " 25,\n",
       " 82,\n",
       " 1214,\n",
       " 151,\n",
       " 1640,\n",
       " 756,\n",
       " 699,\n",
       " 121,\n",
       " 262,\n",
       " 1063,\n",
       " 27,\n",
       " 44,\n",
       " 559,\n",
       " 991,\n",
       " 561,\n",
       " 125,\n",
       " 1015,\n",
       " 114,\n",
       " 147,\n",
       " 157,\n",
       " 295,\n",
       " 739,\n",
       " 537,\n",
       " 610,\n",
       " 213,\n",
       " 99,\n",
       " 55,\n",
       " 784,\n",
       " 1472,\n",
       " 112,\n",
       " 399,\n",
       " 104,\n",
       " 115,\n",
       " 138,\n",
       " 138,\n",
       " 124,\n",
       " 128,\n",
       " 459,\n",
       " 113,\n",
       " 1154,\n",
       " 175,\n",
       " 64,\n",
       " 435,\n",
       " 948,\n",
       " 769,\n",
       " 117,\n",
       " 150,\n",
       " 130,\n",
       " 396,\n",
       " 875,\n",
       " 1736,\n",
       " 2680,\n",
       " 1113,\n",
       " 1195,\n",
       " 737,\n",
       " 645,\n",
       " 156,\n",
       " 809,\n",
       " 73,\n",
       " 769,\n",
       " 81,\n",
       " 140,\n",
       " 63,\n",
       " 1238,\n",
       " 70,\n",
       " 47,\n",
       " 178,\n",
       " 258,\n",
       " 367,\n",
       " 99,\n",
       " 213,\n",
       " 1103,\n",
       " 146,\n",
       " 816,\n",
       " 175,\n",
       " 777,\n",
       " 93,\n",
       " 34,\n",
       " 372,\n",
       " 105,\n",
       " 161,\n",
       " 36,\n",
       " 1743,\n",
       " 1061,\n",
       " 686,\n",
       " 512,\n",
       " 1087,\n",
       " 562,\n",
       " 772,\n",
       " 122,\n",
       " 144,\n",
       " 123,\n",
       " 55,\n",
       " 2176,\n",
       " 49,\n",
       " 295,\n",
       " 107,\n",
       " 57,\n",
       " 67,\n",
       " 386,\n",
       " 218,\n",
       " 57,\n",
       " 704,\n",
       " 326,\n",
       " 76,\n",
       " 121,\n",
       " 441,\n",
       " 395,\n",
       " 46,\n",
       " 249,\n",
       " 23,\n",
       " 645,\n",
       " 192,\n",
       " 157,\n",
       " 55,\n",
       " 680,\n",
       " 410,\n",
       " 181,\n",
       " 612,\n",
       " 2456,\n",
       " 548,\n",
       " 209,\n",
       " 263,\n",
       " 36,\n",
       " 328,\n",
       " 89,\n",
       " 268,\n",
       " 148,\n",
       " 74,\n",
       " 79,\n",
       " 1191,\n",
       " 1246,\n",
       " 1097,\n",
       " 81,\n",
       " 92,\n",
       " 2842,\n",
       " 927,\n",
       " 383,\n",
       " 69,\n",
       " 736,\n",
       " 1214,\n",
       " 297,\n",
       " 810,\n",
       " 259,\n",
       " 278,\n",
       " 3668,\n",
       " 63,\n",
       " 37,\n",
       " 192,\n",
       " 227,\n",
       " 453,\n",
       " 510,\n",
       " 41,\n",
       " 50,\n",
       " 1617,\n",
       " 149,\n",
       " 526,\n",
       " 1328,\n",
       " 241,\n",
       " 556,\n",
       " 75,\n",
       " 489,\n",
       " 89,\n",
       " 830,\n",
       " 162,\n",
       " 32,\n",
       " 203,\n",
       " 209,\n",
       " 488,\n",
       " 116,\n",
       " 1364,\n",
       " 316,\n",
       " 153,\n",
       " 138,\n",
       " 21,\n",
       " 486,\n",
       " 205,\n",
       " 215,\n",
       " 534,\n",
       " 757,\n",
       " 959,\n",
       " 1033,\n",
       " 60,\n",
       " 455,\n",
       " 150,\n",
       " 260,\n",
       " 48,\n",
       " 423,\n",
       " 47,\n",
       " 721,\n",
       " 642,\n",
       " 303,\n",
       " 388,\n",
       " 274,\n",
       " 114,\n",
       " 1452,\n",
       " 239,\n",
       " 1071,\n",
       " 2436,\n",
       " 43,\n",
       " 486,\n",
       " 161,\n",
       " 157,\n",
       " 1241,\n",
       " 134,\n",
       " 434,\n",
       " 56,\n",
       " 381,\n",
       " 43,\n",
       " 836,\n",
       " 44,\n",
       " 101,\n",
       " 999,\n",
       " 211,\n",
       " 140,\n",
       " 3940,\n",
       " 23,\n",
       " 18,\n",
       " 460,\n",
       " 61,\n",
       " 133,\n",
       " 87,\n",
       " 83,\n",
       " 130,\n",
       " 391,\n",
       " 150,\n",
       " 52,\n",
       " 93,\n",
       " 48,\n",
       " 191,\n",
       " 408,\n",
       " 167,\n",
       " 618,\n",
       " 47,\n",
       " 235,\n",
       " 90,\n",
       " 670,\n",
       " 61,\n",
       " 125,\n",
       " 514,\n",
       " 109,\n",
       " 585,\n",
       " 65,\n",
       " 178,\n",
       " 513,\n",
       " 17,\n",
       " 6043,\n",
       " 72,\n",
       " 484,\n",
       " 772,\n",
       " 422,\n",
       " 455,\n",
       " 2207,\n",
       " 266,\n",
       " 119,\n",
       " 36,\n",
       " 92,\n",
       " 40,\n",
       " 216,\n",
       " 924,\n",
       " 188,\n",
       " 817,\n",
       " 108,\n",
       " 833,\n",
       " 444,\n",
       " 374,\n",
       " 144,\n",
       " 463,\n",
       " 165,\n",
       " 75,\n",
       " 558,\n",
       " 489,\n",
       " 410,\n",
       " 948,\n",
       " 70,\n",
       " 1427,\n",
       " 142,\n",
       " 637,\n",
       " 254,\n",
       " 42,\n",
       " 102,\n",
       " 663,\n",
       " 114,\n",
       " 1247,\n",
       " 86,\n",
       " 399,\n",
       " 1050,\n",
       " 131,\n",
       " 628,\n",
       " 494,\n",
       " 443,\n",
       " 324,\n",
       " 45,\n",
       " 993,\n",
       " 293,\n",
       " 34,\n",
       " 500,\n",
       " 436,\n",
       " 77,\n",
       " 57,\n",
       " 31,\n",
       " 487,\n",
       " 66,\n",
       " 609,\n",
       " 111,\n",
       " 65,\n",
       " 38,\n",
       " 65,\n",
       " 91,\n",
       " 21,\n",
       " 502,\n",
       " 339,\n",
       " 255,\n",
       " 88,\n",
       " 48,\n",
       " 32,\n",
       " 1229,\n",
       " 138,\n",
       " 31,\n",
       " 278,\n",
       " 459,\n",
       " 49,\n",
       " 146,\n",
       " 49,\n",
       " 340,\n",
       " 112,\n",
       " 757,\n",
       " 560,\n",
       " 99,\n",
       " 113,\n",
       " 237,\n",
       " 66,\n",
       " 157,\n",
       " 5,\n",
       " 126,\n",
       " 130,\n",
       " 1511,\n",
       " 69,\n",
       " 72,\n",
       " 608,\n",
       " 203,\n",
       " 78,\n",
       " 395,\n",
       " 99,\n",
       " 2674,\n",
       " 777,\n",
       " 373,\n",
       " 173,\n",
       " 45,\n",
       " 83,\n",
       " 701,\n",
       " 485,\n",
       " 1014,\n",
       " 16,\n",
       " 510,\n",
       " 142,\n",
       " 1381,\n",
       " 56,\n",
       " 1371,\n",
       " 78,\n",
       " 1326,\n",
       " 413,\n",
       " 290,\n",
       " 110,\n",
       " 76,\n",
       " 510,\n",
       " 483,\n",
       " 305,\n",
       " 110,\n",
       " 63,\n",
       " 1010,\n",
       " 35,\n",
       " 114,\n",
       " 863,\n",
       " 358,\n",
       " 64,\n",
       " 841,\n",
       " 502,\n",
       " 847,\n",
       " 146,\n",
       " 43,\n",
       " 135,\n",
       " 844,\n",
       " 37,\n",
       " 30,\n",
       " 100,\n",
       " 606,\n",
       " 229,\n",
       " 325,\n",
       " 362,\n",
       " 260,\n",
       " 122,\n",
       " 270,\n",
       " 254,\n",
       " 259,\n",
       " 901,\n",
       " 786,\n",
       " 316,\n",
       " 319,\n",
       " 651,\n",
       " 47,\n",
       " 47,\n",
       " 358,\n",
       " 1175,\n",
       " 162,\n",
       " 49,\n",
       " 371,\n",
       " 81,\n",
       " 305,\n",
       " 401,\n",
       " 173,\n",
       " 561,\n",
       " 430,\n",
       " 75,\n",
       " 39,\n",
       " 146,\n",
       " 49,\n",
       " 128,\n",
       " 1054,\n",
       " 108,\n",
       " 492,\n",
       " 278,\n",
       " 72,\n",
       " 163,\n",
       " 2511,\n",
       " 655,\n",
       " 54,\n",
       " 280,\n",
       " 126,\n",
       " 208,\n",
       " 309,\n",
       " 64,\n",
       " 862,\n",
       " 635,\n",
       " 279,\n",
       " 69,\n",
       " 342,\n",
       " 70,\n",
       " 173,\n",
       " 724,\n",
       " 163,\n",
       " 228,\n",
       " 38,\n",
       " 505,\n",
       " 138,\n",
       " 272,\n",
       " 55,\n",
       " 1014,\n",
       " 74,\n",
       " 196,\n",
       " 14,\n",
       " 104,\n",
       " 212,\n",
       " 546,\n",
       " 704,\n",
       " 739,\n",
       " 69,\n",
       " 826,\n",
       " 46,\n",
       " 74,\n",
       " 662,\n",
       " 464,\n",
       " 339,\n",
       " 82,\n",
       " 8589,\n",
       " 260,\n",
       " 516,\n",
       " 1402,\n",
       " 61,\n",
       " 54,\n",
       " 462,\n",
       " 1792,\n",
       " 535,\n",
       " 42,\n",
       " 1180,\n",
       " 162,\n",
       " 88,\n",
       " 748,\n",
       " 411,\n",
       " 981,\n",
       " 79,\n",
       " 480,\n",
       " 2263,\n",
       " 1580,\n",
       " 62,\n",
       " 3932,\n",
       " 53,\n",
       " 362,\n",
       " 2368,\n",
       " 756,\n",
       " 37,\n",
       " 914,\n",
       " 63,\n",
       " 127,\n",
       " 480,\n",
       " 379,\n",
       " 2837,\n",
       " 239,\n",
       " 120,\n",
       " 267,\n",
       " 1196,\n",
       " 231,\n",
       " 83,\n",
       " 372,\n",
       " 41,\n",
       " 1223,\n",
       " 92,\n",
       " 208,\n",
       " 133,\n",
       " 326,\n",
       " 32,\n",
       " 1370,\n",
       " 119,\n",
       " 502,\n",
       " 1113,\n",
       " 70,\n",
       " 289,\n",
       " 93,\n",
       " 64,\n",
       " 471,\n",
       " 661,\n",
       " 188,\n",
       " 82,\n",
       " 615,\n",
       " 184,\n",
       " 200,\n",
       " 83,\n",
       " 959,\n",
       " 1725,\n",
       " 70,\n",
       " 2601,\n",
       " 664,\n",
       " 119,\n",
       " 345,\n",
       " 597,\n",
       " 373,\n",
       " 176,\n",
       " 271,\n",
       " 380,\n",
       " 604,\n",
       " 296,\n",
       " 703,\n",
       " 1454,\n",
       " 356,\n",
       " 153,\n",
       " 176,\n",
       " 514,\n",
       " 55,\n",
       " 230,\n",
       " 132,\n",
       " 806,\n",
       " 1102,\n",
       " 20,\n",
       " 885,\n",
       " 756,\n",
       " 6174,\n",
       " 187,\n",
       " 1184,\n",
       " 123,\n",
       " 439,\n",
       " 35,\n",
       " 1705,\n",
       " 405,\n",
       " 97,\n",
       " 94,\n",
       " 265,\n",
       " 239,\n",
       " 190,\n",
       " 1060,\n",
       " 238,\n",
       " 439,\n",
       " 379,\n",
       " 76,\n",
       " 357,\n",
       " 759,\n",
       " 98,\n",
       " 53,\n",
       " 383,\n",
       " 3141,\n",
       " 86,\n",
       " 422,\n",
       " 415,\n",
       " 73,\n",
       " 161,\n",
       " 234,\n",
       " 313,\n",
       " 244,\n",
       " 135,\n",
       " 181,\n",
       " 26,\n",
       " 916,\n",
       " 188,\n",
       " 444,\n",
       " 455,\n",
       " 117,\n",
       " 174,\n",
       " 59,\n",
       " 383,\n",
       " 78,\n",
       " 58,\n",
       " 44,\n",
       " 98,\n",
       " 1383,\n",
       " 203,\n",
       " 509,\n",
       " 135,\n",
       " 97,\n",
       " 130,\n",
       " 164,\n",
       " 9411,\n",
       " 247,\n",
       " 122,\n",
       " 74,\n",
       " 528,\n",
       " 1211,\n",
       " 833,\n",
       " 657,\n",
       " 494,\n",
       " 162,\n",
       " 200,\n",
       " 162,\n",
       " 177,\n",
       " 702,\n",
       " 155,\n",
       " 665,\n",
       " 1013,\n",
       " 202,\n",
       " 118,\n",
       " 116,\n",
       " 595,\n",
       " 920,\n",
       " 335,\n",
       " 50,\n",
       " 39,\n",
       " 402,\n",
       " 244,\n",
       " 1365,\n",
       " 308,\n",
       " 945,\n",
       " 147,\n",
       " 28,\n",
       " 397,\n",
       " 2345,\n",
       " 143,\n",
       " 116,\n",
       " 131,\n",
       " 1303,\n",
       " 434,\n",
       " 58,\n",
       " 1029,\n",
       " 50,\n",
       " 1157,\n",
       " 752,\n",
       " 248,\n",
       " 417,\n",
       " 1742,\n",
       " 452,\n",
       " 69,\n",
       " 95,\n",
       " 331,\n",
       " 642,\n",
       " 109,\n",
       " 54,\n",
       " 265,\n",
       " 63,\n",
       " 593,\n",
       " 89,\n",
       " 152,\n",
       " 142,\n",
       " 549,\n",
       " 548,\n",
       " 88,\n",
       " 55,\n",
       " 458,\n",
       " 466,\n",
       " 49,\n",
       " 588,\n",
       " 462,\n",
       " 684,\n",
       " ...]"
      ]
     },
     "execution_count": 66,
     "metadata": {},
     "output_type": "execute_result"
    }
   ],
   "source": [
    "length_array"
   ]
  },
  {
   "cell_type": "code",
   "execution_count": 56,
   "id": "3aa7bfea",
   "metadata": {},
   "outputs": [
    {
     "data": {
      "text/html": [
       "<div>\n",
       "<style scoped>\n",
       "    .dataframe tbody tr th:only-of-type {\n",
       "        vertical-align: middle;\n",
       "    }\n",
       "\n",
       "    .dataframe tbody tr th {\n",
       "        vertical-align: top;\n",
       "    }\n",
       "\n",
       "    .dataframe thead th {\n",
       "        text-align: right;\n",
       "    }\n",
       "</style>\n",
       "<table border=\"1\" class=\"dataframe\">\n",
       "  <thead>\n",
       "    <tr style=\"text-align: right;\">\n",
       "      <th></th>\n",
       "      <th>text</th>\n",
       "      <th>label</th>\n",
       "    </tr>\n",
       "  </thead>\n",
       "  <tbody>\n",
       "    <tr>\n",
       "      <th>0</th>\n",
       "      <td>dear american teens question dutch person hear...</td>\n",
       "      <td>0</td>\n",
       "    </tr>\n",
       "    <tr>\n",
       "      <th>1</th>\n",
       "      <td>nothing look forward lifei dont many reasons k...</td>\n",
       "      <td>1</td>\n",
       "    </tr>\n",
       "    <tr>\n",
       "      <th>2</th>\n",
       "      <td>music recommendations im looking expand playli...</td>\n",
       "      <td>0</td>\n",
       "    </tr>\n",
       "    <tr>\n",
       "      <th>3</th>\n",
       "      <td>im done trying feel betterthe reason im still ...</td>\n",
       "      <td>1</td>\n",
       "    </tr>\n",
       "    <tr>\n",
       "      <th>4</th>\n",
       "      <td>worried  year old girl subject domestic physic...</td>\n",
       "      <td>1</td>\n",
       "    </tr>\n",
       "    <tr>\n",
       "      <th>...</th>\n",
       "      <td>...</td>\n",
       "      <td>...</td>\n",
       "    </tr>\n",
       "    <tr>\n",
       "      <th>27972</th>\n",
       "      <td>posting everyday people stop caring  religion ...</td>\n",
       "      <td>0</td>\n",
       "    </tr>\n",
       "    <tr>\n",
       "      <th>27973</th>\n",
       "      <td>okay definetly need hear guys opinion ive pret...</td>\n",
       "      <td>0</td>\n",
       "    </tr>\n",
       "    <tr>\n",
       "      <th>27974</th>\n",
       "      <td>cant get dog think ill kill myselfthe last thi...</td>\n",
       "      <td>1</td>\n",
       "    </tr>\n",
       "    <tr>\n",
       "      <th>27975</th>\n",
       "      <td>whats point princess bridei really think like ...</td>\n",
       "      <td>1</td>\n",
       "    </tr>\n",
       "    <tr>\n",
       "      <th>27976</th>\n",
       "      <td>got nudes person might might know snapchat do ...</td>\n",
       "      <td>0</td>\n",
       "    </tr>\n",
       "  </tbody>\n",
       "</table>\n",
       "<p>27977 rows × 2 columns</p>\n",
       "</div>"
      ],
      "text/plain": [
       "                                                    text  label\n",
       "0      dear american teens question dutch person hear...      0\n",
       "1      nothing look forward lifei dont many reasons k...      1\n",
       "2      music recommendations im looking expand playli...      0\n",
       "3      im done trying feel betterthe reason im still ...      1\n",
       "4      worried  year old girl subject domestic physic...      1\n",
       "...                                                  ...    ...\n",
       "27972  posting everyday people stop caring  religion ...      0\n",
       "27973  okay definetly need hear guys opinion ive pret...      0\n",
       "27974  cant get dog think ill kill myselfthe last thi...      1\n",
       "27975  whats point princess bridei really think like ...      1\n",
       "27976  got nudes person might might know snapchat do ...      0\n",
       "\n",
       "[27977 rows x 2 columns]"
      ]
     },
     "execution_count": 56,
     "metadata": {},
     "output_type": "execute_result"
    }
   ],
   "source": [
    "df"
   ]
  },
  {
   "cell_type": "code",
   "execution_count": 70,
   "id": "1742c57c",
   "metadata": {},
   "outputs": [],
   "source": [
    "length_array = np.array(length_array)"
   ]
  },
  {
   "cell_type": "code",
   "execution_count": 72,
   "id": "7bfda01c",
   "metadata": {},
   "outputs": [
    {
     "data": {
      "text/plain": [
       "(27977,)"
      ]
     },
     "execution_count": 72,
     "metadata": {},
     "output_type": "execute_result"
    }
   ],
   "source": [
    "length_array.shape"
   ]
  },
  {
   "cell_type": "code",
   "execution_count": 73,
   "id": "63978da1",
   "metadata": {},
   "outputs": [
    {
     "data": {
      "text/plain": [
       "464.5762590699503"
      ]
     },
     "execution_count": 73,
     "metadata": {},
     "output_type": "execute_result"
    }
   ],
   "source": [
    "length_array.mean()"
   ]
  },
  {
   "cell_type": "code",
   "execution_count": 74,
   "id": "69b3bc8e",
   "metadata": {},
   "outputs": [],
   "source": [
    "vocab_size = 10000\n",
    "embedding_dim = 16\n",
    "max_length = 512\n",
    "trunc_type = 'post'\n",
    "oov_tok = '<oov>'"
   ]
  },
  {
   "cell_type": "code",
   "execution_count": 75,
   "id": "522c6ac6",
   "metadata": {},
   "outputs": [],
   "source": [
    "from tensorflow.keras.preprocessing.text import Tokenizer"
   ]
  },
  {
   "cell_type": "code",
   "execution_count": 76,
   "id": "605c5277",
   "metadata": {},
   "outputs": [],
   "source": [
    "from tensorflow.keras.preprocessing.sequence import pad_sequences"
   ]
  },
  {
   "cell_type": "code",
   "execution_count": 77,
   "id": "3a206ada",
   "metadata": {},
   "outputs": [],
   "source": [
    "tokenizer = Tokenizer(num_words = vocab_size, oov_token=oov_tok)"
   ]
  },
  {
   "cell_type": "code",
   "execution_count": 83,
   "id": "515a62cd",
   "metadata": {},
   "outputs": [],
   "source": [
    "tokenizer.fit_on_texts(X_train_dl)\n",
    "word_index = tokenizer.word_index"
   ]
  },
  {
   "cell_type": "code",
   "execution_count": 85,
   "id": "0207010c",
   "metadata": {},
   "outputs": [
    {
     "data": {
      "text/plain": [
       "7395     whats annoying spam messages calls need pick f...\n",
       "6519     anyone elses parents ruin halloween plans lovi...\n",
       "2855     im trying change life really worth iti fucking...\n",
       "2754     ok but america shit china wants reality ends h...\n",
       "20509    future awaits us overpopulated unforgiving was...\n",
       "                               ...                        \n",
       "5695     wish people didnt worry muchi wish people didn...\n",
       "8006     holy shit typing password computer realized me...\n",
       "17745    intense physical abuse need helpi need help im...\n",
       "17931    friend ended fucking two guys houe becuase hes...\n",
       "13151    well done spooky horror movie povertyrow film ...\n",
       "Name: text, Length: 19583, dtype: object"
      ]
     },
     "execution_count": 85,
     "metadata": {},
     "output_type": "execute_result"
    }
   ],
   "source": [
    "X_train_dl"
   ]
  },
  {
   "cell_type": "code",
   "execution_count": 87,
   "id": "84290a13",
   "metadata": {},
   "outputs": [
    {
     "data": {
      "text/plain": [
       "pandas.core.series.Series"
      ]
     },
     "execution_count": 87,
     "metadata": {},
     "output_type": "execute_result"
    }
   ],
   "source": [
    "type(X_train_dl)"
   ]
  },
  {
   "cell_type": "code",
   "execution_count": 88,
   "id": "92ddc375",
   "metadata": {},
   "outputs": [],
   "source": [
    "training_sequences = tokenizer.texts_to_sequences(X_train_dl)"
   ]
  },
  {
   "cell_type": "code",
   "execution_count": 89,
   "id": "5da9acf4",
   "metadata": {},
   "outputs": [],
   "source": [
    "train_paddded = pad_sequences(training_sequences, maxlen=max_length, truncating=trunc_type)"
   ]
  },
  {
   "cell_type": "code",
   "execution_count": 90,
   "id": "fe65dff7",
   "metadata": {},
   "outputs": [],
   "source": [
    "testing_sequences = tokenizer.texts_to_sequences(X_test_dl)\n",
    "test_paddded = pad_sequences(testing_sequences, maxlen=max_length, truncating=trunc_type)"
   ]
  },
  {
   "cell_type": "code",
   "execution_count": 96,
   "id": "137e8396",
   "metadata": {},
   "outputs": [],
   "source": [
    "model = tf.keras.Sequential([\n",
    "    tf.keras.layers.Embedding(vocab_size, embedding_dim, input_length=max_length),\n",
    "    tf.keras.layers.Bidirectional(tf.keras.layers.LSTM(64, return_sequences=True)),\n",
    "    tf.keras.layers.Bidirectional(tf.keras.layers.LSTM(32)),\n",
    "    tf.keras.layers.Dense(64, activation='relu'),\n",
    "    tf.keras.layers.Dense(1, activation='sigmoid'),\n",
    "])"
   ]
  },
  {
   "cell_type": "code",
   "execution_count": 97,
   "id": "bcd94012",
   "metadata": {},
   "outputs": [],
   "source": [
    "model.compile(loss='binary_crossentropy', optimizer='adam', metrics=['accuracy'])"
   ]
  },
  {
   "cell_type": "code",
   "execution_count": 98,
   "id": "4e5737df",
   "metadata": {},
   "outputs": [
    {
     "name": "stdout",
     "output_type": "stream",
     "text": [
      "Model: \"sequential_1\"\n",
      "_________________________________________________________________\n",
      " Layer (type)                Output Shape              Param #   \n",
      "=================================================================\n",
      " embedding_1 (Embedding)     (None, 512, 16)           160000    \n",
      "                                                                 \n",
      " bidirectional_2 (Bidirectio  (None, 512, 128)         41472     \n",
      " nal)                                                            \n",
      "                                                                 \n",
      " bidirectional_3 (Bidirectio  (None, 64)               41216     \n",
      " nal)                                                            \n",
      "                                                                 \n",
      " dense_2 (Dense)             (None, 64)                4160      \n",
      "                                                                 \n",
      " dense_3 (Dense)             (None, 1)                 65        \n",
      "                                                                 \n",
      "=================================================================\n",
      "Total params: 246,913\n",
      "Trainable params: 246,913\n",
      "Non-trainable params: 0\n",
      "_________________________________________________________________\n"
     ]
    }
   ],
   "source": [
    "model.summary()"
   ]
  },
  {
   "cell_type": "code",
   "execution_count": 99,
   "id": "c856d288",
   "metadata": {},
   "outputs": [],
   "source": [
    "num_epochs = 10"
   ]
  },
  {
   "cell_type": "code",
   "execution_count": 100,
   "id": "bc0b4350",
   "metadata": {},
   "outputs": [
    {
     "name": "stdout",
     "output_type": "stream",
     "text": [
      "Epoch 1/10\n",
      "612/612 [==============================] - 335s 534ms/step - loss: 0.3183 - accuracy: 0.8676 - val_loss: 0.2257 - val_accuracy: 0.9148\n",
      "Epoch 2/10\n",
      "612/612 [==============================] - 325s 531ms/step - loss: 0.2605 - accuracy: 0.9023 - val_loss: 0.3206 - val_accuracy: 0.8655\n",
      "Epoch 3/10\n",
      "612/612 [==============================] - 329s 538ms/step - loss: 0.1858 - accuracy: 0.9336 - val_loss: 0.2377 - val_accuracy: 0.9166\n",
      "Epoch 4/10\n",
      "612/612 [==============================] - 327s 534ms/step - loss: 0.1353 - accuracy: 0.9536 - val_loss: 0.2145 - val_accuracy: 0.9228\n",
      "Epoch 5/10\n",
      "612/612 [==============================] - 346s 566ms/step - loss: 0.1075 - accuracy: 0.9642 - val_loss: 0.2316 - val_accuracy: 0.9214\n",
      "Epoch 6/10\n",
      "612/612 [==============================] - 361s 590ms/step - loss: 0.0911 - accuracy: 0.9702 - val_loss: 0.2338 - val_accuracy: 0.9149\n",
      "Epoch 7/10\n",
      "612/612 [==============================] - 337s 550ms/step - loss: 0.0795 - accuracy: 0.9754 - val_loss: 0.3062 - val_accuracy: 0.9089\n",
      "Epoch 8/10\n",
      "612/612 [==============================] - 341s 558ms/step - loss: 0.0657 - accuracy: 0.9797 - val_loss: 0.3159 - val_accuracy: 0.9089\n",
      "Epoch 9/10\n",
      "612/612 [==============================] - 381s 623ms/step - loss: 0.0603 - accuracy: 0.9821 - val_loss: 0.3484 - val_accuracy: 0.9062\n",
      "Epoch 10/10\n",
      "612/612 [==============================] - 354s 578ms/step - loss: 0.0526 - accuracy: 0.9840 - val_loss: 0.3029 - val_accuracy: 0.9073\n"
     ]
    },
    {
     "data": {
      "text/plain": [
       "<keras.callbacks.History at 0x1e297b50790>"
      ]
     },
     "execution_count": 100,
     "metadata": {},
     "output_type": "execute_result"
    }
   ],
   "source": [
    "model.fit(train_paddded, y_train, epochs=num_epochs, validation_data=(test_paddded, y_test))"
   ]
  },
  {
   "cell_type": "code",
   "execution_count": 101,
   "id": "6910057b",
   "metadata": {},
   "outputs": [],
   "source": [
    "model.save(\"final_nlp_model.h5\")"
   ]
  },
  {
   "cell_type": "code",
   "execution_count": 106,
   "id": "a4faee64",
   "metadata": {},
   "outputs": [],
   "source": [
    "seed_text = 'I am done for my life'\n",
    "token = tokenizer.texts_to_sequences([seed_text])[0]\n",
    "token = pad_sequences([token], maxlen=max_length, truncating=trunc_type)"
   ]
  },
  {
   "cell_type": "code",
   "execution_count": 110,
   "id": "a243bb62",
   "metadata": {},
   "outputs": [
    {
     "name": "stdout",
     "output_type": "stream",
     "text": [
      "1/1 [==============================] - 0s 65ms/step\n"
     ]
    }
   ],
   "source": [
    "prediction = model.predict(token)"
   ]
  },
  {
   "cell_type": "code",
   "execution_count": 111,
   "id": "774a6d88",
   "metadata": {},
   "outputs": [
    {
     "data": {
      "text/plain": [
       "array([[0.9192641]], dtype=float32)"
      ]
     },
     "execution_count": 111,
     "metadata": {},
     "output_type": "execute_result"
    }
   ],
   "source": [
    "prediction"
   ]
  },
  {
   "cell_type": "code",
   "execution_count": 114,
   "id": "2689572c",
   "metadata": {},
   "outputs": [
    {
     "name": "stdout",
     "output_type": "stream",
     "text": [
      "Needs Medical Assistance\n"
     ]
    }
   ],
   "source": [
    "if prediction[0] <= 0.5 :\n",
    "    print(\"Normal\") \n",
    "else:\n",
    "    print(\"Needs Medical Assistance\") "
   ]
  },
  {
   "cell_type": "markdown",
   "id": "0ea8a1b3",
   "metadata": {},
   "source": [
    "## Still concluding that the SVC model is performing the best according to the accuracy"
   ]
  },
  {
   "cell_type": "markdown",
   "id": "e73935c3",
   "metadata": {},
   "source": [
    "# Thus, SVC(Radial-Basis Kernel) model gives the best accuracy of 92% "
   ]
  }
 ],
 "metadata": {
  "kernelspec": {
   "display_name": "Python 3 (ipykernel)",
   "language": "python",
   "name": "python3"
  },
  "language_info": {
   "codemirror_mode": {
    "name": "ipython",
    "version": 3
   },
   "file_extension": ".py",
   "mimetype": "text/x-python",
   "name": "python",
   "nbconvert_exporter": "python",
   "pygments_lexer": "ipython3",
   "version": "3.10.6"
  },
  "vscode": {
   "interpreter": {
    "hash": "b1f570cb91817614ef5c059314506ddd1665cb272bc6d56c14d46da724343f92"
   }
  }
 },
 "nbformat": 4,
 "nbformat_minor": 5
}
